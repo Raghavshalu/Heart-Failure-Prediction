{
 "cells": [
  {
   "cell_type": "code",
   "execution_count": 194,
   "metadata": {},
   "outputs": [],
   "source": [
    "import numpy as np\n",
    "import pandas as pd\n",
    "import matplotlib.pyplot as plt"
   ]
  },
  {
   "cell_type": "code",
   "execution_count": 195,
   "metadata": {},
   "outputs": [],
   "source": [
    "##IMPORTING DATASET\n",
    "df=pd.read_csv(\"Heart.csv\")"
   ]
  },
  {
   "cell_type": "code",
   "execution_count": 196,
   "metadata": {},
   "outputs": [
    {
     "data": {
      "text/html": [
       "<div>\n",
       "<style scoped>\n",
       "    .dataframe tbody tr th:only-of-type {\n",
       "        vertical-align: middle;\n",
       "    }\n",
       "\n",
       "    .dataframe tbody tr th {\n",
       "        vertical-align: top;\n",
       "    }\n",
       "\n",
       "    .dataframe thead th {\n",
       "        text-align: right;\n",
       "    }\n",
       "</style>\n",
       "<table border=\"1\" class=\"dataframe\">\n",
       "  <thead>\n",
       "    <tr style=\"text-align: right;\">\n",
       "      <th></th>\n",
       "      <th>Unnamed: 0</th>\n",
       "      <th>Age</th>\n",
       "      <th>Sex</th>\n",
       "      <th>ChestPain</th>\n",
       "      <th>RestBP</th>\n",
       "      <th>Chol</th>\n",
       "      <th>Fbs</th>\n",
       "      <th>RestECG</th>\n",
       "      <th>MaxHR</th>\n",
       "      <th>ExAng</th>\n",
       "      <th>Oldpeak</th>\n",
       "      <th>Slope</th>\n",
       "      <th>Ca</th>\n",
       "      <th>Thal</th>\n",
       "      <th>AHD</th>\n",
       "    </tr>\n",
       "  </thead>\n",
       "  <tbody>\n",
       "    <tr>\n",
       "      <th>0</th>\n",
       "      <td>1</td>\n",
       "      <td>63</td>\n",
       "      <td>1</td>\n",
       "      <td>typical</td>\n",
       "      <td>145</td>\n",
       "      <td>233</td>\n",
       "      <td>1</td>\n",
       "      <td>2</td>\n",
       "      <td>150</td>\n",
       "      <td>0</td>\n",
       "      <td>2.3</td>\n",
       "      <td>3</td>\n",
       "      <td>0.0</td>\n",
       "      <td>fixed</td>\n",
       "      <td>No</td>\n",
       "    </tr>\n",
       "    <tr>\n",
       "      <th>1</th>\n",
       "      <td>2</td>\n",
       "      <td>67</td>\n",
       "      <td>1</td>\n",
       "      <td>asymptomatic</td>\n",
       "      <td>160</td>\n",
       "      <td>286</td>\n",
       "      <td>0</td>\n",
       "      <td>2</td>\n",
       "      <td>108</td>\n",
       "      <td>1</td>\n",
       "      <td>1.5</td>\n",
       "      <td>2</td>\n",
       "      <td>3.0</td>\n",
       "      <td>normal</td>\n",
       "      <td>Yes</td>\n",
       "    </tr>\n",
       "    <tr>\n",
       "      <th>2</th>\n",
       "      <td>3</td>\n",
       "      <td>67</td>\n",
       "      <td>1</td>\n",
       "      <td>asymptomatic</td>\n",
       "      <td>120</td>\n",
       "      <td>229</td>\n",
       "      <td>0</td>\n",
       "      <td>2</td>\n",
       "      <td>129</td>\n",
       "      <td>1</td>\n",
       "      <td>2.6</td>\n",
       "      <td>2</td>\n",
       "      <td>2.0</td>\n",
       "      <td>reversable</td>\n",
       "      <td>Yes</td>\n",
       "    </tr>\n",
       "    <tr>\n",
       "      <th>3</th>\n",
       "      <td>4</td>\n",
       "      <td>37</td>\n",
       "      <td>1</td>\n",
       "      <td>nonanginal</td>\n",
       "      <td>130</td>\n",
       "      <td>250</td>\n",
       "      <td>0</td>\n",
       "      <td>0</td>\n",
       "      <td>187</td>\n",
       "      <td>0</td>\n",
       "      <td>3.5</td>\n",
       "      <td>3</td>\n",
       "      <td>0.0</td>\n",
       "      <td>normal</td>\n",
       "      <td>No</td>\n",
       "    </tr>\n",
       "    <tr>\n",
       "      <th>4</th>\n",
       "      <td>5</td>\n",
       "      <td>41</td>\n",
       "      <td>0</td>\n",
       "      <td>nontypical</td>\n",
       "      <td>130</td>\n",
       "      <td>204</td>\n",
       "      <td>0</td>\n",
       "      <td>2</td>\n",
       "      <td>172</td>\n",
       "      <td>0</td>\n",
       "      <td>1.4</td>\n",
       "      <td>1</td>\n",
       "      <td>0.0</td>\n",
       "      <td>normal</td>\n",
       "      <td>No</td>\n",
       "    </tr>\n",
       "    <tr>\n",
       "      <th>...</th>\n",
       "      <td>...</td>\n",
       "      <td>...</td>\n",
       "      <td>...</td>\n",
       "      <td>...</td>\n",
       "      <td>...</td>\n",
       "      <td>...</td>\n",
       "      <td>...</td>\n",
       "      <td>...</td>\n",
       "      <td>...</td>\n",
       "      <td>...</td>\n",
       "      <td>...</td>\n",
       "      <td>...</td>\n",
       "      <td>...</td>\n",
       "      <td>...</td>\n",
       "      <td>...</td>\n",
       "    </tr>\n",
       "    <tr>\n",
       "      <th>298</th>\n",
       "      <td>299</td>\n",
       "      <td>45</td>\n",
       "      <td>1</td>\n",
       "      <td>typical</td>\n",
       "      <td>110</td>\n",
       "      <td>264</td>\n",
       "      <td>0</td>\n",
       "      <td>0</td>\n",
       "      <td>132</td>\n",
       "      <td>0</td>\n",
       "      <td>1.2</td>\n",
       "      <td>2</td>\n",
       "      <td>0.0</td>\n",
       "      <td>reversable</td>\n",
       "      <td>Yes</td>\n",
       "    </tr>\n",
       "    <tr>\n",
       "      <th>299</th>\n",
       "      <td>300</td>\n",
       "      <td>68</td>\n",
       "      <td>1</td>\n",
       "      <td>asymptomatic</td>\n",
       "      <td>144</td>\n",
       "      <td>193</td>\n",
       "      <td>1</td>\n",
       "      <td>0</td>\n",
       "      <td>141</td>\n",
       "      <td>0</td>\n",
       "      <td>3.4</td>\n",
       "      <td>2</td>\n",
       "      <td>2.0</td>\n",
       "      <td>reversable</td>\n",
       "      <td>Yes</td>\n",
       "    </tr>\n",
       "    <tr>\n",
       "      <th>300</th>\n",
       "      <td>301</td>\n",
       "      <td>57</td>\n",
       "      <td>1</td>\n",
       "      <td>asymptomatic</td>\n",
       "      <td>130</td>\n",
       "      <td>131</td>\n",
       "      <td>0</td>\n",
       "      <td>0</td>\n",
       "      <td>115</td>\n",
       "      <td>1</td>\n",
       "      <td>1.2</td>\n",
       "      <td>2</td>\n",
       "      <td>1.0</td>\n",
       "      <td>reversable</td>\n",
       "      <td>Yes</td>\n",
       "    </tr>\n",
       "    <tr>\n",
       "      <th>301</th>\n",
       "      <td>302</td>\n",
       "      <td>57</td>\n",
       "      <td>0</td>\n",
       "      <td>nontypical</td>\n",
       "      <td>130</td>\n",
       "      <td>236</td>\n",
       "      <td>0</td>\n",
       "      <td>2</td>\n",
       "      <td>174</td>\n",
       "      <td>0</td>\n",
       "      <td>0.0</td>\n",
       "      <td>2</td>\n",
       "      <td>1.0</td>\n",
       "      <td>normal</td>\n",
       "      <td>Yes</td>\n",
       "    </tr>\n",
       "    <tr>\n",
       "      <th>302</th>\n",
       "      <td>303</td>\n",
       "      <td>38</td>\n",
       "      <td>1</td>\n",
       "      <td>nonanginal</td>\n",
       "      <td>138</td>\n",
       "      <td>175</td>\n",
       "      <td>0</td>\n",
       "      <td>0</td>\n",
       "      <td>173</td>\n",
       "      <td>0</td>\n",
       "      <td>0.0</td>\n",
       "      <td>1</td>\n",
       "      <td>NaN</td>\n",
       "      <td>normal</td>\n",
       "      <td>No</td>\n",
       "    </tr>\n",
       "  </tbody>\n",
       "</table>\n",
       "<p>303 rows × 15 columns</p>\n",
       "</div>"
      ],
      "text/plain": [
       "     Unnamed: 0  Age  Sex     ChestPain  RestBP  Chol  Fbs  RestECG  MaxHR  \\\n",
       "0             1   63    1       typical     145   233    1        2    150   \n",
       "1             2   67    1  asymptomatic     160   286    0        2    108   \n",
       "2             3   67    1  asymptomatic     120   229    0        2    129   \n",
       "3             4   37    1    nonanginal     130   250    0        0    187   \n",
       "4             5   41    0    nontypical     130   204    0        2    172   \n",
       "..          ...  ...  ...           ...     ...   ...  ...      ...    ...   \n",
       "298         299   45    1       typical     110   264    0        0    132   \n",
       "299         300   68    1  asymptomatic     144   193    1        0    141   \n",
       "300         301   57    1  asymptomatic     130   131    0        0    115   \n",
       "301         302   57    0    nontypical     130   236    0        2    174   \n",
       "302         303   38    1    nonanginal     138   175    0        0    173   \n",
       "\n",
       "     ExAng  Oldpeak  Slope   Ca        Thal  AHD  \n",
       "0        0      2.3      3  0.0       fixed   No  \n",
       "1        1      1.5      2  3.0      normal  Yes  \n",
       "2        1      2.6      2  2.0  reversable  Yes  \n",
       "3        0      3.5      3  0.0      normal   No  \n",
       "4        0      1.4      1  0.0      normal   No  \n",
       "..     ...      ...    ...  ...         ...  ...  \n",
       "298      0      1.2      2  0.0  reversable  Yes  \n",
       "299      0      3.4      2  2.0  reversable  Yes  \n",
       "300      1      1.2      2  1.0  reversable  Yes  \n",
       "301      0      0.0      2  1.0      normal  Yes  \n",
       "302      0      0.0      1  NaN      normal   No  \n",
       "\n",
       "[303 rows x 15 columns]"
      ]
     },
     "execution_count": 196,
     "metadata": {},
     "output_type": "execute_result"
    }
   ],
   "source": [
    "df"
   ]
  },
  {
   "cell_type": "code",
   "execution_count": 197,
   "metadata": {},
   "outputs": [
    {
     "name": "stdout",
     "output_type": "stream",
     "text": [
      "[[1 63 1 ... 3 0.0 'fixed']\n",
      " [2 67 1 ... 2 3.0 'normal']\n",
      " [3 67 1 ... 2 2.0 'reversable']\n",
      " ...\n",
      " [301 57 1 ... 2 1.0 'reversable']\n",
      " [302 57 0 ... 2 1.0 'normal']\n",
      " [303 38 1 ... 1 nan 'normal']]\n"
     ]
    }
   ],
   "source": [
    "x=df.iloc[:,:-1].values\n",
    "print(x)"
   ]
  },
  {
   "cell_type": "code",
   "execution_count": 198,
   "metadata": {},
   "outputs": [
    {
     "data": {
      "text/plain": [
       "(303, 14)"
      ]
     },
     "execution_count": 198,
     "metadata": {},
     "output_type": "execute_result"
    }
   ],
   "source": [
    "x.shape"
   ]
  },
  {
   "cell_type": "code",
   "execution_count": 199,
   "metadata": {},
   "outputs": [
    {
     "name": "stdout",
     "output_type": "stream",
     "text": [
      "['No' 'Yes' 'Yes' 'No' 'No' 'No' 'Yes  ' 'No' 'Yes' 'Yes' 'No' 'No' 'Yes'\n",
      " 'No' 'No' 'No' 'Yes' 'No' 'No' 'No' 'No' 'No' 'Yes' 'Yes' 'Yes' 'No' 'No'\n",
      " 'No' 'No' 'Yes' 'No' 'Yes' 'Yes' 'No' 'No' 'No' 'Yes' 'Yes' 'Yes' 'No'\n",
      " 'Yes' 'No' 'No' 'No' 'Yes' 'Yes' 'No' 'Yes' 'No' 'No' 'No' 'No' 'Yes'\n",
      " 'No' 'Yes' 'Yes' 'Yes' 'Yes' 'No' 'No' 'Yes' 'No' 'Yes' 'No' 'Yes' 'Yes'\n",
      " 'Yes' 'No' 'Yes' 'Yes' 'No' 'Yes' 'Yes' 'Yes' 'Yes' 'No' 'Yes' 'No' 'No'\n",
      " 'Yes' 'No' 'No' 'No' 'Yes' 'No' 'No' 'No' 'No' 'No' 'No' 'No' 'Yes' 'No'\n",
      " 'No' 'No' 'Yes' 'Yes' 'Yes' 'No' 'No' 'No' 'No' 'No' 'No' 'Yes' 'No'\n",
      " 'Yes' 'Yes' 'Yes' 'Yes' 'Yes' 'Yes' 'No' 'Yes' 'Yes' 'No' 'No' 'No' 'Yes'\n",
      " 'Yes' 'Yes' 'Yes' 'No' 'Yes' 'Yes' 'No' 'Yes' 'Yes' 'No' 'No' 'No' 'No'\n",
      " 'No' 'No' 'No' 'No' 'Yes' 'Yes' 'Yes' 'No' 'No' 'Yes' 'No' 'Yes' 'No'\n",
      " 'Yes' 'Yes' 'No' 'No' 'No' 'No' 'No' 'No' 'Yes' 'Yes' 'Yes' 'Yes' 'Yes'\n",
      " 'Yes' 'No' 'No' 'Yes' 'No' 'No' 'No' 'No' 'No' 'No' 'Yes' 'No' 'Yes' 'No'\n",
      " 'Yes' 'No' 'Yes' 'Yes' 'No' 'Yes' 'No' 'No' 'Yes' 'Yes' 'No' 'No' 'Yes'\n",
      " 'No' 'No' 'Yes' 'Yes' 'Yes' 'No' 'Yes' 'Yes' 'Yes' 'No' 'Yes' 'No' 'No'\n",
      " 'No' 'Yes' 'No' 'No' 'No' 'No' 'No' 'Yes' 'Yes' 'Yes' 'No' 'Yes' 'No'\n",
      " 'Yes' 'No' 'Yes' 'Yes' 'No' 'No' 'No' 'No' 'No' 'No' 'No' 'No' 'Yes'\n",
      " 'Yes' 'No' 'No' 'No' 'Yes' 'Yes' 'No' 'Yes' 'Yes' 'No' 'No' 'Yes' 'Yes'\n",
      " 'Yes' 'No' 'No' 'No' 'No' 'No' 'Yes' 'No' 'Yes' 'Yes' 'Yes' 'Yes' 'No'\n",
      " 'No' 'Yes' 'No' 'No' 'No' 'No' 'No' 'No' 'No' 'Yes' 'No' 'Yes' 'No' 'No'\n",
      " 'Yes' 'Yes' 'Yes' 'Yes' 'Yes' 'No' 'Yes' 'No' 'Yes' 'No' 'Yes' 'No' 'No'\n",
      " 'No' 'Yes' 'No' 'Yes' 'No' 'Yes' 'No' 'Yes' 'Yes' 'Yes' 'No' 'No' 'No'\n",
      " 'Yes' 'No' 'Yes' 'Yes' 'Yes' 'No' 'Yes' 'Yes' 'Yes' 'Yes' 'Yes' 'Yes'\n",
      " 'No']\n"
     ]
    }
   ],
   "source": [
    "y=df.iloc[:,-1].values\n",
    "print(y)"
   ]
  },
  {
   "cell_type": "code",
   "execution_count": 200,
   "metadata": {},
   "outputs": [
    {
     "data": {
      "text/plain": [
       "array([150, 108, 129, 187, 172, 178, 160, 163, 147, 155, 148, 153, 142,\n",
       "       173, 162, 174, 168, 160, 139, 171, 144, 162, 160, 173, 132, 158,\n",
       "       172, 114, 171, 114, 151, 160, 158, 161, 179, 178, 120, 112, 132,\n",
       "       137, 114, 178, 162, 157, 169, 165, 123, 128, 157, 152, 168, 140,\n",
       "       153, 188, 144, 109, 163, 158, 152, 125, 142, 160, 131, 170, 113,\n",
       "       142, 155, 165, 140, 147, 148, 163, 99, 158, 177, 151, 141, 142,\n",
       "       180, 111, 148, 143, 182, 150, 172, 180, 156, 115, 160, 149, 151,\n",
       "       145, 146, 175, 172, 161, 142, 157, 158, 186, 185, 174, 159, 130,\n",
       "       139, 156, 162, 150, 140, 140, 146, 144, 190, 136, 97, 132, 165,\n",
       "       182, 132, 127, 150, 154, 143, 111, 174, 175, 133, 126, 170, 163,\n",
       "       147, 154, 202, 186, 165, 161, 125, 103, 130, 166, 164, 159, 184,\n",
       "       131, 154, 152, 124, 179, 170, 160, 178, 122, 160, 145, 96, 109,\n",
       "       173, 171, 170, 151, 156, 162, 158, 122, 175, 168, 169, 159, 156,\n",
       "       138, 112, 111, 143, 157, 132, 88, 147, 105, 162, 173, 166, 150,\n",
       "       178, 145, 161, 179, 194, 120, 195, 146, 163, 122, 143, 106, 115,\n",
       "       125, 131, 152, 162, 125, 159, 154, 173, 133, 161, 147, 130, 126,\n",
       "       155, 154, 170, 182, 168, 165, 160, 162, 172, 152, 122, 182, 172,\n",
       "       167, 179, 95, 169, 192, 143, 172, 108, 132, 169, 117, 126, 121,\n",
       "       163, 116, 103, 144, 162, 162, 153, 163, 163, 145, 96, 71, 156, 118,\n",
       "       168, 140, 126, 105, 105, 157, 181, 173, 142, 116, 143, 141, 149,\n",
       "       152, 171, 169, 125, 125, 156, 134, 181, 150, 138, 138, 120, 125,\n",
       "       162, 155, 152, 152, 164, 131, 143, 179, 130, 174, 161, 140, 146,\n",
       "       144, 163, 169, 150, 166, 144, 144, 136, 182, 90, 123, 132, 141,\n",
       "       115, 174, 173], dtype=object)"
      ]
     },
     "execution_count": 200,
     "metadata": {},
     "output_type": "execute_result"
    }
   ],
   "source": [
    "##DATA preprocessing\n",
    "x[:,8]"
   ]
  },
  {
   "cell_type": "code",
   "execution_count": 201,
   "metadata": {},
   "outputs": [],
   "source": [
    "from sklearn.preprocessing import LabelEncoder\n",
    "le1=LabelEncoder()\n",
    "le2=LabelEncoder()\n",
    "le3=LabelEncoder()\n",
    "x[:,3]=le1.fit_transform(x[:,3])\n",
    "x[:,12]=le2.fit_transform(x[:,12])\n",
    "x[:,13]=le3.fit_transform(x[:,13])"
   ]
  },
  {
   "cell_type": "code",
   "execution_count": 202,
   "metadata": {},
   "outputs": [
    {
     "name": "stdout",
     "output_type": "stream",
     "text": [
      "[[1 63 1 ... 3 0 0]\n",
      " [2 67 1 ... 2 3 1]\n",
      " [3 67 1 ... 2 2 2]\n",
      " ...\n",
      " [301 57 1 ... 2 1 2]\n",
      " [302 57 0 ... 2 1 1]\n",
      " [303 38 1 ... 1 4 1]]\n"
     ]
    }
   ],
   "source": [
    "# print(x[:13])\n",
    "print(x)"
   ]
  },
  {
   "cell_type": "code",
   "execution_count": 203,
   "metadata": {},
   "outputs": [
    {
     "name": "stdout",
     "output_type": "stream",
     "text": [
      "['No' 'Yes' 'Yes' 'No' 'No' 'No' 'Yes  ' 'No' 'Yes' 'Yes' 'No' 'No' 'Yes'\n",
      " 'No' 'No' 'No' 'Yes' 'No' 'No' 'No' 'No' 'No' 'Yes' 'Yes' 'Yes' 'No' 'No'\n",
      " 'No' 'No' 'Yes' 'No' 'Yes' 'Yes' 'No' 'No' 'No' 'Yes' 'Yes' 'Yes' 'No'\n",
      " 'Yes' 'No' 'No' 'No' 'Yes' 'Yes' 'No' 'Yes' 'No' 'No' 'No' 'No' 'Yes'\n",
      " 'No' 'Yes' 'Yes' 'Yes' 'Yes' 'No' 'No' 'Yes' 'No' 'Yes' 'No' 'Yes' 'Yes'\n",
      " 'Yes' 'No' 'Yes' 'Yes' 'No' 'Yes' 'Yes' 'Yes' 'Yes' 'No' 'Yes' 'No' 'No'\n",
      " 'Yes' 'No' 'No' 'No' 'Yes' 'No' 'No' 'No' 'No' 'No' 'No' 'No' 'Yes' 'No'\n",
      " 'No' 'No' 'Yes' 'Yes' 'Yes' 'No' 'No' 'No' 'No' 'No' 'No' 'Yes' 'No'\n",
      " 'Yes' 'Yes' 'Yes' 'Yes' 'Yes' 'Yes' 'No' 'Yes' 'Yes' 'No' 'No' 'No' 'Yes'\n",
      " 'Yes' 'Yes' 'Yes' 'No' 'Yes' 'Yes' 'No' 'Yes' 'Yes' 'No' 'No' 'No' 'No'\n",
      " 'No' 'No' 'No' 'No' 'Yes' 'Yes' 'Yes' 'No' 'No' 'Yes' 'No' 'Yes' 'No'\n",
      " 'Yes' 'Yes' 'No' 'No' 'No' 'No' 'No' 'No' 'Yes' 'Yes' 'Yes' 'Yes' 'Yes'\n",
      " 'Yes' 'No' 'No' 'Yes' 'No' 'No' 'No' 'No' 'No' 'No' 'Yes' 'No' 'Yes' 'No'\n",
      " 'Yes' 'No' 'Yes' 'Yes' 'No' 'Yes' 'No' 'No' 'Yes' 'Yes' 'No' 'No' 'Yes'\n",
      " 'No' 'No' 'Yes' 'Yes' 'Yes' 'No' 'Yes' 'Yes' 'Yes' 'No' 'Yes' 'No' 'No'\n",
      " 'No' 'Yes' 'No' 'No' 'No' 'No' 'No' 'Yes' 'Yes' 'Yes' 'No' 'Yes' 'No'\n",
      " 'Yes' 'No' 'Yes' 'Yes' 'No' 'No' 'No' 'No' 'No' 'No' 'No' 'No' 'Yes'\n",
      " 'Yes' 'No' 'No' 'No' 'Yes' 'Yes' 'No' 'Yes' 'Yes' 'No' 'No' 'Yes' 'Yes'\n",
      " 'Yes' 'No' 'No' 'No' 'No' 'No' 'Yes' 'No' 'Yes' 'Yes' 'Yes' 'Yes' 'No'\n",
      " 'No' 'Yes' 'No' 'No' 'No' 'No' 'No' 'No' 'No' 'Yes' 'No' 'Yes' 'No' 'No'\n",
      " 'Yes' 'Yes' 'Yes' 'Yes' 'Yes' 'No' 'Yes' 'No' 'Yes' 'No' 'Yes' 'No' 'No'\n",
      " 'No' 'Yes' 'No' 'Yes' 'No' 'Yes' 'No' 'Yes' 'Yes' 'Yes' 'No' 'No' 'No'\n",
      " 'Yes' 'No' 'Yes' 'Yes' 'Yes' 'No' 'Yes' 'Yes' 'Yes' 'Yes' 'Yes' 'Yes'\n",
      " 'No']\n"
     ]
    }
   ],
   "source": [
    "print(y)"
   ]
  },
  {
   "cell_type": "code",
   "execution_count": 204,
   "metadata": {},
   "outputs": [],
   "source": [
    "##SPLITING DATASET into training and testing\n",
    "from sklearn.model_selection import train_test_split\n",
    "X_train,X_test,Y_train,Y_test=train_test_split(x,y,test_size=0.2,random_state=0)"
   ]
  },
  {
   "cell_type": "code",
   "execution_count": 205,
   "metadata": {},
   "outputs": [
    {
     "name": "stdout",
     "output_type": "stream",
     "text": [
      "[[75 44 1 ... 1 1 1]\n",
      " [154 55 1 ... 2 1 2]\n",
      " [65 54 1 ... 2 1 2]\n",
      " ...\n",
      " [118 35 0 ... 1 0 1]\n",
      " [48 50 1 ... 2 0 2]\n",
      " [173 59 0 ... 2 0 1]]\n"
     ]
    }
   ],
   "source": [
    "X_train.shape\n",
    "print(X_train)"
   ]
  },
  {
   "cell_type": "code",
   "execution_count": 206,
   "metadata": {},
   "outputs": [
    {
     "name": "stdout",
     "output_type": "stream",
     "text": [
      "[[226 34 0 2 118 210 0 0 192 0 0.7 1 0 1]\n",
      " [153 67 0 1 115 564 0 2 160 0 1.6 2 0 2]\n",
      " [229 54 1 0 110 206 0 2 108 1 0.0 2 1 1]\n",
      " [202 64 0 0 180 325 0 0 154 1 0.0 1 0 1]\n",
      " [53 44 1 0 112 290 0 2 153 0 0.0 1 1 1]\n",
      " [246 67 1 0 120 237 0 0 71 0 1.0 2 0 1]\n",
      " [176 57 1 0 152 274 0 0 88 1 1.2 2 1 2]\n",
      " [169 35 1 0 126 282 0 2 156 1 0.0 1 0 2]\n",
      " [224 53 1 0 123 282 0 0 95 1 2.0 2 2 2]\n",
      " [218 46 0 0 138 243 0 2 152 1 0.0 2 0 1]\n",
      " [112 56 1 0 125 249 1 2 144 1 1.2 2 1 1]\n",
      " [136 55 0 2 135 250 0 2 161 0 1.4 2 0 1]\n",
      " [219 64 0 0 130 303 0 0 122 0 2.0 2 2 1]\n",
      " [13 56 1 1 130 256 1 2 142 1 0.6 2 1 0]\n",
      " [16 57 1 1 150 168 0 0 174 0 1.6 1 0 1]\n",
      " [67 60 1 1 140 185 0 2 155 0 3.0 2 0 1]\n",
      " [98 60 0 0 150 258 0 2 157 0 2.6 2 2 2]\n",
      " [91 66 1 0 120 302 0 2 151 0 0.4 2 0 1]\n",
      " [199 50 0 2 120 244 0 0 162 0 1.1 1 0 1]\n",
      " [104 71 0 1 110 265 1 2 130 0 0.0 1 1 1]\n",
      " [23 58 1 2 120 284 0 2 160 0 1.8 2 0 1]\n",
      " [213 41 1 1 130 214 0 2 168 0 2.0 2 0 1]\n",
      " [227 47 1 0 112 204 0 0 143 0 0.1 1 0 1]\n",
      " [265 61 1 0 138 166 0 2 125 1 3.6 2 1 1]\n",
      " [134 51 1 0 140 261 0 2 186 1 0.0 1 0 1]\n",
      " [217 46 0 2 105 204 0 0 172 0 0.0 1 0 1]\n",
      " [276 64 1 3 170 227 0 2 155 0 0.6 2 0 2]\n",
      " [271 61 1 0 140 207 0 2 138 1 1.9 1 1 2]\n",
      " [155 64 1 0 120 246 0 2 96 1 2.2 3 1 1]\n",
      " [56 54 1 0 124 266 0 2 109 1 2.2 2 1 2]\n",
      " [195 68 0 1 120 211 0 2 115 0 1.5 2 0 1]\n",
      " [256 42 0 1 120 209 0 0 173 0 0.0 2 0 1]\n",
      " [135 43 0 1 122 213 0 0 165 0 0.2 2 0 1]\n",
      " [9 63 1 0 130 254 0 2 147 0 1.4 2 1 2]\n",
      " [158 58 1 0 125 300 0 2 171 0 0.0 1 2 2]\n",
      " [242 41 0 2 126 306 0 0 163 0 0.0 1 0 1]\n",
      " [241 41 1 2 110 235 0 0 153 0 0.0 1 0 1]\n",
      " [82 53 0 0 130 264 0 2 143 0 0.4 2 0 1]\n",
      " [215 52 1 0 112 230 0 0 160 0 0.0 1 1 1]\n",
      " [168 54 0 2 132 288 1 2 159 1 0.0 1 1 1]\n",
      " [6 56 1 2 120 236 0 0 178 0 0.8 1 0 1]\n",
      " [60 51 1 3 125 213 0 2 125 1 1.4 1 1 1]\n",
      " [93 62 1 1 130 231 0 0 146 0 1.8 2 3 2]\n",
      " [275 59 1 3 134 204 0 0 162 0 0.8 1 2 1]\n",
      " [35 44 1 1 130 233 0 0 179 1 0.4 1 0 1]\n",
      " [146 47 1 1 108 243 0 0 152 0 0.0 1 0 1]\n",
      " [117 58 1 1 140 211 1 2 165 0 0.0 1 0 1]\n",
      " [189 54 1 2 192 283 0 2 195 0 0.0 1 1 2]\n",
      " [247 58 1 0 100 234 0 0 156 0 0.1 1 1 2]\n",
      " [8 57 0 0 120 354 0 0 163 1 0.6 1 0 1]\n",
      " [46 58 1 1 112 230 0 2 165 0 2.5 2 1 2]\n",
      " [130 62 0 0 124 209 0 0 163 0 0.0 1 0 1]\n",
      " [123 51 1 1 100 222 0 0 143 1 1.2 2 0 1]\n",
      " [64 54 0 1 135 304 1 0 170 0 0.0 1 0 1]\n",
      " [125 65 1 3 138 282 1 2 174 0 1.4 2 1 1]\n",
      " [228 67 0 1 152 277 0 0 172 0 0.0 1 1 1]\n",
      " [147 57 1 0 165 289 1 2 124 0 1.0 2 3 2]\n",
      " [303 38 1 1 138 175 0 0 173 0 0.0 1 4 1]\n",
      " [27 58 0 1 120 340 0 0 172 0 0.0 1 0 1]\n",
      " [109 61 1 0 120 260 0 0 140 1 3.6 2 1 2]\n",
      " [90 51 0 1 130 256 0 2 149 0 0.5 1 0 1]]\n"
     ]
    }
   ],
   "source": [
    "##for answer\n",
    "print(X_test)"
   ]
  },
  {
   "cell_type": "code",
   "execution_count": 207,
   "metadata": {},
   "outputs": [],
   "source": [
    "##Feature Scaling\n",
    "\n",
    "from sklearn.preprocessing import StandardScaler\n",
    "sc=StandardScaler()\n",
    "##FOR TAKING NEAR VALUE IN ABOVE IT GIVES VARY DIFFERENT VALUES\n",
    "X_train=sc.fit_transform(X_train)\n",
    "X_test=sc.fit_transform(X_test)\n"
   ]
  },
  {
   "cell_type": "code",
   "execution_count": 208,
   "metadata": {},
   "outputs": [
    {
     "name": "stdout",
     "output_type": "stream",
     "text": [
      "[[-0.87755353 -1.13185208  0.67015058 ... -0.98667524  0.26036477\n",
      "  -0.58345997]\n",
      " [ 0.01252384  0.07286213  0.67015058 ...  0.59461885  0.26036477\n",
      "   1.02105494]\n",
      " [-0.99022155 -0.03665734  0.67015058 ...  0.59461885  0.26036477\n",
      "   1.02105494]\n",
      " ...\n",
      " [-0.39308104 -2.11752735 -1.49220195 ... -0.98667524 -0.70899329\n",
      "  -0.58345997]\n",
      " [-1.18175719 -0.47473524  0.67015058 ...  0.59461885 -0.70899329\n",
      "   1.02105494]\n",
      " [ 0.22659308  0.51094003 -1.49220195 ...  0.59461885 -0.70899329\n",
      "  -0.58345997]]\n"
     ]
    }
   ],
   "source": [
    "print(x_train)"
   ]
  },
  {
   "cell_type": "code",
   "execution_count": 209,
   "metadata": {},
   "outputs": [
    {
     "data": {
      "text/plain": [
       "RandomForestClassifier()"
      ]
     },
     "execution_count": 209,
     "metadata": {},
     "output_type": "execute_result"
    }
   ],
   "source": [
    "#TRAINING DATASET\n",
    "from sklearn.ensemble import RandomForestClassifier\n",
    "model_randomforest = RandomForestClassifier()\n",
    "model_randomforest.fit(X_train,Y_train)"
   ]
  },
  {
   "cell_type": "code",
   "execution_count": 210,
   "metadata": {},
   "outputs": [
    {
     "data": {
      "text/plain": [
       "LogisticRegression()"
      ]
     },
     "execution_count": 210,
     "metadata": {},
     "output_type": "execute_result"
    }
   ],
   "source": [
    "from sklearn.linear_model import LogisticRegression\n",
    "model_logistic = LogisticRegression()\n",
    "model_logistic.fit(X_train,Y_train)"
   ]
  },
  {
   "cell_type": "code",
   "execution_count": 211,
   "metadata": {},
   "outputs": [
    {
     "data": {
      "text/plain": [
       "KNeighborsClassifier()"
      ]
     },
     "execution_count": 211,
     "metadata": {},
     "output_type": "execute_result"
    }
   ],
   "source": [
    "from sklearn.neighbors import KNeighborsClassifier\n",
    "model_kneighbors = KNeighborsClassifier()\n",
    "model_kneighbors.fit(X_train,Y_train)"
   ]
  },
  {
   "cell_type": "code",
   "execution_count": 212,
   "metadata": {},
   "outputs": [
    {
     "data": {
      "text/plain": [
       "DecisionTreeClassifier()"
      ]
     },
     "execution_count": 212,
     "metadata": {},
     "output_type": "execute_result"
    }
   ],
   "source": [
    "from sklearn.tree import DecisionTreeClassifier\n",
    "model_decision = DecisionTreeClassifier()\n",
    "model_decision.fit(X_train,Y_train)"
   ]
  },
  {
   "cell_type": "code",
   "execution_count": 213,
   "metadata": {},
   "outputs": [
    {
     "data": {
      "text/plain": [
       "SVC()"
      ]
     },
     "execution_count": 213,
     "metadata": {},
     "output_type": "execute_result"
    }
   ],
   "source": [
    "from sklearn.svm import SVC\n",
    "model_svm = SVC()\n",
    "model_svm.fit(X_train,Y_train)"
   ]
  },
  {
   "cell_type": "code",
   "execution_count": 214,
   "metadata": {},
   "outputs": [],
   "source": [
    "##predict a value of x_test\n",
    "y_pred_logistic=model_logistic.predict(x_test)\n",
    "y_pred_neighbors = model_kneighbors.predict(X_test)\n",
    "y_pred_svm = model_svm.predict(X_test)\n",
    "y_pred_decision = model_decision.predict(X_test)\n",
    "y_pred_random = model_randomforest.predict(X_test)"
   ]
  },
  {
   "cell_type": "code",
   "execution_count": 215,
   "metadata": {},
   "outputs": [],
   "source": [
    "##TESTING ACCURANCY\n",
    "## for we know for x_test value is that ## y_test   soo....check how accurate it is\n",
    "from sklearn.metrics import accuracy_score\n",
    "RandomForest_Accuracy = accuracy_score(Y_test,y_pred_random)\n",
    "LogisticRegression_Accuracy = accuracy_score(Y_test,y_pred_logistic)\n",
    "KNeighbors_Accuracy = accuracy_score(Y_test,y_pred_neighbors)\n",
    "SVM_Accuracy = accuracy_score(Y_test,y_pred_svm)\n",
    "Decision_Accuracy = accuracy_score(Y_test,y_pred_decision)"
   ]
  },
  {
   "cell_type": "code",
   "execution_count": 222,
   "metadata": {},
   "outputs": [
    {
     "data": {
      "text/plain": [
       "Text(0, 0.5, 'Accuracy')"
      ]
     },
     "execution_count": 222,
     "metadata": {},
     "output_type": "execute_result"
    },
    {
     "data": {
      "image/png": "[encoded data removed]",
      "text/plain": [
       "<Figure size 1200x600 with 1 Axes>"
      ]
     },
     "metadata": {},
     "output_type": "display_data"
    }
   ],
   "source": [
    "plt.figure(figsize=(12, 6))\n",
    "plt.bar(\"Logistic Regression\",LogisticRegression_Accuracy,width=0.6)\n",
    "plt.bar(\"KNeighbors\",KNeighbors_Accuracy,width=0.6)\n",
    "plt.bar(\"Support Vector Machine\",SVM_Accuracy,width=0.6)\n",
    "plt.bar(\"Decision Tree\",Decision_Accuracy,width=0.6)\n",
    "plt.bar(\"Random Forest\",RandomForest_Accuracy,width=0.6)\n",
    "plt.xlabel(\"Machine Learning Algorithm\")\n",
    "plt.ylabel(\"Accuracy\")"
   ]
  },
  {
   "cell_type": "code",
   "execution_count": 217,
   "metadata": {},
   "outputs": [
    {
     "name": "stdout",
     "output_type": "stream",
     "text": [
      "0.7377049180327869\n",
      "0.7540983606557377\n",
      "0.7704918032786885\n",
      "0.7704918032786885\n",
      "0.7540983606557377\n"
     ]
    }
   ],
   "source": [
    "print(RandomForest_Accuracy)\n",
    "print(LogisticRegression_Accuracy)\n",
    "print(KNeighbors_Accuracy)\n",
    "print(SVM_Accuracy)\n",
    "print(Decision_Accuracy)"
   ]
  },
  {
   "cell_type": "code",
   "execution_count": 218,
   "metadata": {},
   "outputs": [
    {
     "name": "stdout",
     "output_type": "stream",
     "text": [
      "['No']\n",
      "Person Having Heart Disease\n"
     ]
    }
   ],
   "source": [
    "result = model_randomforest.predict(sc.transform([[20,1,2,110,290,1,2,160,0,2.2,1,13,1,1]]))\n",
    "print(result)\n",
    "if result == [1]:\n",
    "    print('Person Not Having Heart Disease')\n",
    "else:\n",
    "    print(\"Person Having Heart Disease\")"
   ]
  },
  {
   "cell_type": "code",
   "execution_count": null,
   "metadata": {},
   "outputs": [],
   "source": []
  }
 ],
 "metadata": {
  "kernelspec": {
   "display_name": "Python 3",
   "language": "python",
   "name": "python3"
  },
  "language_info": {
   "codemirror_mode": {
    "name": "ipython",
    "version": 3
   },
   "file_extension": ".py",
   "mimetype": "text/x-python",
   "name": "python",
   "nbconvert_exporter": "python",
   "pygments_lexer": "ipython3",
   "version": "3.7.8"
  },
  "orig_nbformat": 4,
  "vscode": {
   "interpreter": {
    "hash": "f17bda5eacd1ffa7870d6ea7bc615b762fdf9e1441df9ebd847e5098981c241f"
   }
  }
 },
 "nbformat": 4,
 "nbformat_minor": 2
}
